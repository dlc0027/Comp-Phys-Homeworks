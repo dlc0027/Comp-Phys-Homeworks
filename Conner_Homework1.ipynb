{
  "nbformat": 4,
  "nbformat_minor": 0,
  "metadata": {
    "kernelspec": {
      "display_name": "Python 3",
      "language": "python",
      "name": "python3"
    },
    "language_info": {
      "codemirror_mode": {
        "name": "ipython",
        "version": 3
      },
      "file_extension": ".py",
      "mimetype": "text/x-python",
      "name": "python",
      "nbconvert_exporter": "python",
      "pygments_lexer": "ipython3",
      "version": "3.7.7"
    },
    "colab": {
      "name": "Conner.Homework1.ipynb",
      "provenance": [],
      "collapsed_sections": [],
      "include_colab_link": true
    }
  },
  "cells": [
    {
      "cell_type": "markdown",
      "metadata": {
        "id": "view-in-github",
        "colab_type": "text"
      },
      "source": [
        "<a href=\"https://colab.research.google.com/github/dlc0027/Comp-Phys-Homeworks/blob/master/Conner_Homework1.ipynb\" target=\"_parent\"><img src=\"https://colab.research.google.com/assets/colab-badge.svg\" alt=\"Open In Colab\"/></a>"
      ]
    },
    {
      "cell_type": "markdown",
      "metadata": {
        "id": "Vd_1D9ILlbaS",
        "colab_type": "text"
      },
      "source": [
        "# Week one: Basic Python skills\n",
        "\n",
        "(And introduction to weekly problem set format)\n",
        "\n",
        "# Name: Dylan Conner\n",
        "\n",
        "Create a project in your Github for your first homework. You will get an invitation from me every week. The first time, it will be a process, therefore do not hesitate to ask.\n"
      ]
    },
    {
      "cell_type": "markdown",
      "metadata": {
        "id": "u1dG2FE5mCjS",
        "colab_type": "text"
      },
      "source": [
        ""
      ]
    },
    {
      "cell_type": "markdown",
      "metadata": {
        "id": "qFDJVLYylbaT",
        "colab_type": "text"
      },
      "source": [
        "This course will provide a set of problems, based on a Jupyter notebook that will need to be filled in each week. The goal of filling in the requested pieces is twofold: you should be able to run the worksheet and get the requested answer with the given dataset, and you should also be able to pass with different datasets (not given). These will often check unusual inputs, etc., so try to make sure all possible input datasets are accounted for.\n",
        "\n",
        "To be graded, your notebook must be runnable start to finish. If you can't make an in-notebook test pass, comment it out to attempt to get partial credit. You should replace the `...` markers with your code. Do not change the names of the pre-defined variables and functions that you are supposed to provide; but otherwise, you can do almost anything. Feel free to make helper functions and classes, make extra tests, etc. I will provide working wrappers around whatever you are doing, so you don't need to do anything other than replace `...` with code unless you want to. (One exception: Add your name and UC 6+2 below!)"
      ]
    },
    {
      "cell_type": "code",
      "metadata": {
        "id": "-TqSWfd0lbaU",
        "colab_type": "code",
        "colab": {}
      },
      "source": [
        "# Replace the following lines\n",
        "WVUID = '800231106'\n",
        "NAME = 'Dylan Conner'"
      ],
      "execution_count": null,
      "outputs": []
    },
    {
      "cell_type": "markdown",
      "metadata": {
        "id": "a5Zz2ZeWlbaX",
        "colab_type": "text"
      },
      "source": [
        "# Problem 1: Getting started\n",
        "\n",
        "Write a function named `factorial(x)` that computes the factorial of a number. Include a docstring (explaining what the function does, what are the input variables and what is the expected output). Make sure you throw an error (such as ValueError) if x is negative or not an integer. You **must implement this yourself** (you can't use `math.factorial`). You can use the following procedure for the factorial:\n",
        "\n",
        "* Set the result to 1\n",
        "* Loop over the values 1 to x, multiplying the result each time\n",
        "* Return the result\n",
        "\n",
        "Here (as in later problems), I'll put `...` where you should write code."
      ]
    },
    {
      "cell_type": "code",
      "metadata": {
        "id": "x2Y48RcYlbaX",
        "colab_type": "code",
        "colab": {}
      },
      "source": [
        "def factorial(x):\n",
        "  x = int(input(\"Please enter a positive number: \"))\n",
        "  if x < 0: # Check for invalid input\n",
        "        raise ValueError(f\"Invalid value: x={x}\")\n",
        "  elif x == 0:\n",
        "    print(\"The factorial of 0 is 1.\")\n",
        "  factorial = 1 # calculations and returned result   \n",
        "  for i in range(1, x + 1):\n",
        "      factorial = factorial*i\n",
        "  print(\"The factorial for\" ,x, \"is\" ,factorial)\n",
        "    \n",
        "    \n",
        "\n",
        "\n",
        "   "
      ],
      "execution_count": null,
      "outputs": []
    },
    {
      "cell_type": "markdown",
      "metadata": {
        "id": "2_JWDeNulbaa",
        "colab_type": "text"
      },
      "source": [
        "### Tests\n",
        "\n",
        "Note that you can always add more tests if you like. I'm using the `assert` statement, which throws an error if the expression it expects is `False` (or false-like)."
      ]
    },
    {
      "cell_type": "code",
      "metadata": {
        "id": "Lcvk1Q-klbab",
        "colab_type": "code",
        "colab": {
          "base_uri": "https://localhost:8080/",
          "height": 221
        },
        "outputId": "642a2ed3-5d9d-4c5e-ba5e-be5a7d2845e0"
      },
      "source": [
        "import math\n",
        "assert math.factorial(5) == factorial(5) # The previous code works and factorial is correct, but there is an assertion error. Feedback?"
      ],
      "execution_count": null,
      "outputs": [
        {
          "output_type": "stream",
          "text": [
            "Please enter a positive number:  4\n",
            "The factorial for 4 is 24\n"
          ],
          "name": "stdout"
        },
        {
          "output_type": "error",
          "ename": "AssertionError",
          "evalue": "ignored",
          "traceback": [
            "\u001b[0;31m---------------------------------------------------------------------------\u001b[0m",
            "\u001b[0;31mAssertionError\u001b[0m                            Traceback (most recent call last)",
            "\u001b[0;32m<ipython-input-43-98916e0d92f8>\u001b[0m in \u001b[0;36m<module>\u001b[0;34m()\u001b[0m\n\u001b[1;32m      1\u001b[0m \u001b[0;32mimport\u001b[0m \u001b[0mmath\u001b[0m\u001b[0;34m\u001b[0m\u001b[0;34m\u001b[0m\u001b[0m\n\u001b[0;32m----> 2\u001b[0;31m \u001b[0;32massert\u001b[0m \u001b[0mmath\u001b[0m\u001b[0;34m.\u001b[0m\u001b[0mfactorial\u001b[0m\u001b[0;34m(\u001b[0m\u001b[0;36m5\u001b[0m\u001b[0;34m)\u001b[0m \u001b[0;34m==\u001b[0m \u001b[0mfactorial\u001b[0m\u001b[0;34m(\u001b[0m\u001b[0;36m5\u001b[0m\u001b[0;34m)\u001b[0m \u001b[0;31m# The previous code works and factorial is correct, but there is an assertion error. Feedback?\u001b[0m\u001b[0;34m\u001b[0m\u001b[0;34m\u001b[0m\u001b[0m\n\u001b[0m",
            "\u001b[0;31mAssertionError\u001b[0m: "
          ]
        }
      ]
    },
    {
      "cell_type": "markdown",
      "metadata": {
        "id": "XQJqtvIqlbad",
        "colab_type": "text"
      },
      "source": [
        "# Problem 2: Fun with collections\n",
        "\n",
        "This is a series of manipulations on a tuples. I'll give you some example tuples to test, but your manipulations should work on any iterable input:"
      ]
    },
    {
      "cell_type": "code",
      "metadata": {
        "id": "6ees3atclbad",
        "colab_type": "code",
        "colab": {
          "base_uri": "https://localhost:8080/",
          "height": 52
        },
        "outputId": "413579fa-a3a3-4e3e-8138-fe6d99cea32b"
      },
      "source": [
        "my_tuple_0_10 = tuple(range(10))\n",
        "my_tuple_5_15 = tuple(range(5,15))\n",
        "print(\"my_tuple_0_10 =\", my_tuple_0_10)\n",
        "print(\"my_tuple_5_15 =\", my_tuple_5_15)"
      ],
      "execution_count": null,
      "outputs": [
        {
          "output_type": "stream",
          "text": [
            "my_tuple_0_10 = (0, 1, 2, 3, 4, 5, 6, 7, 8, 9)\n",
            "my_tuple_5_15 = (5, 6, 7, 8, 9, 10, 11, 12, 13, 14)\n"
          ],
          "name": "stdout"
        }
      ]
    },
    {
      "cell_type": "markdown",
      "metadata": {
        "id": "yUG52-Ujlbag",
        "colab_type": "text"
      },
      "source": [
        "### 2.1: Select the even elements of an iterable only:\n",
        "\n",
        "Fill in the following function with something that `return`s just the even parts of list. You can use a list comprehension, or build it with an explicit loop; it's up to you. (You can even use a generator if you know that that is, but that's probably overkill)."
      ]
    },
    {
      "cell_type": "code",
      "metadata": {
        "id": "OjL24lyLlbag",
        "colab_type": "code",
        "colab": {}
      },
      "source": [
        "def evens(input_list):\n",
        " list = tuple(range(0,10))\n",
        " even_list = [ x for x in range(0,10) if x%2 ==0]\n",
        " return tuple(even_list)\n",
        "    \n",
        "\n",
        " \n",
        " print(\"The original list is\" , list)\n",
        " print(\"The even parts of the list are:\" , even_list) \n"
      ],
      "execution_count": null,
      "outputs": []
    },
    {
      "cell_type": "code",
      "metadata": {
        "id": "39rM4QHBlbai",
        "colab_type": "code",
        "colab": {}
      },
      "source": [
        "assert tuple(evens(my_tuple_0_10)) == (0,2,4,6,8)"
      ],
      "execution_count": null,
      "outputs": []
    },
    {
      "cell_type": "markdown",
      "metadata": {
        "id": "we3XRLpglbak",
        "colab_type": "text"
      },
      "source": [
        "### 2.2: Operations on a list\n",
        "\n",
        "Compute the following calculation on every element of the iterable given.\n",
        "\n",
        "$$\n",
        "y = A x^3 + B x^2 + C x + D\n",
        "$$\n",
        "\n",
        "\n",
        "\n",
        "Return an iterable with the computed values."
      ]
    },
    {
      "cell_type": "code",
      "metadata": {
        "id": "HZVhwc1Elbal",
        "colab_type": "code",
        "colab": {}
      },
      "source": [
        "def poly(input_list, A, B, C, D):\n",
        "# Had trouble with this one but ran out of time. My idea was to at least use the given tuple/list and solve for each element individually with algebra, but\n",
        "# did not know how to turn answers into a tuple or address the coefficients in this case of the polynomial. Will most likely email soon to ask how to solve after."
      ],
      "execution_count": null,
      "outputs": []
    },
    {
      "cell_type": "markdown",
      "metadata": {
        "id": "aNcRrNbslban",
        "colab_type": "text"
      },
      "source": [
        "<font color=\"grey\">\n",
        "\n",
        "> Side note: Python has great support for function arguments - you can make required, optional, and keyword-only arguments, along with unlimited positional and unlimited keyword arguments. We'll just use the normal required arguments here, but maybe optional would be better; you could set 0 as the default, for example."
      ]
    },
    {
      "cell_type": "code",
      "metadata": {
        "id": "CdjTQZXylban",
        "colab_type": "code",
        "colab": {}
      },
      "source": [
        "assert tuple(poly(my_tuple_0_10, 0, 1, 0, 0)) == my_tuple_0_10\n",
        "assert tuple(poly(my_tuple_0_10, 1, 0, 0)) == (0,1,4,9,16,25,36,49,64,81)\n",
        "assert tuple(poly(my_tuple_0_10, A=1, B=0, C=0)) == (0,1,4,9,16,25,36,49,64,81)"
      ],
      "execution_count": null,
      "outputs": []
    },
    {
      "cell_type": "markdown",
      "metadata": {
        "id": "tRvJLvfclbap",
        "colab_type": "text"
      },
      "source": [
        "<font color=\"grey\">\n",
        "> Note: you are always welcome to add more tests - when I grade I will be running more tests than I put in the examples, as well. You might want to be careful in this case if adding floating point tests; `==` is a little tricky with floating point values. We'll talk about numerical precision in a later lecture."
      ]
    },
    {
      "cell_type": "markdown",
      "metadata": {
        "id": "BrYLfZzmlbap",
        "colab_type": "text"
      },
      "source": [
        "### 2.3: Operations on two lists\n",
        "\n",
        "Let's try operating on two lists at a time. Compute the \"dot product\", $\\sum_i x_i y_i$ of the two input iterables.\n",
        "\n",
        "> If Python lists/tuples supported `@`, this would be `x @ y` - but they don't. Python lists are not really meant to be numeric; things like `+` and `*` are not defined in a numeric way either. `+` concatenates lists and `*` repeats them. We'll later see Numpy, which is much better for numerics.\n",
        "\n",
        "There are ways to do this in a comprehension (if you really want to, look at `zip`), but feel free to use a normal for loop. If you use a for loop, you'll want to add things up yourself; if you use a comprehension, use the `sum()` function to do the sum once you compute the product."
      ]
    },
    {
      "cell_type": "code",
      "metadata": {
        "id": "NuQ-17oNlbaq",
        "colab_type": "code",
        "colab": {}
      },
      "source": [
        "def dot(list_x, list_y):\n",
        "  list_one = tuple(range(0,10))\n",
        "  list_two = tuple(range(5,15))\n",
        "  dotprod = 0\n",
        "  for i,j in zip(list_one,list_two):\n",
        "    dotprod = sum(i*j for i,j in zip(list_one,list_two))\n",
        "  print(\"The dot product of the two is\" , dotprod) "
      ],
      "execution_count": null,
      "outputs": []
    },
    {
      "cell_type": "code",
      "metadata": {
        "id": "BwQ9TOr8lbas",
        "colab_type": "code",
        "colab": {
          "base_uri": "https://localhost:8080/",
          "height": 175
        },
        "outputId": "41a988cc-835a-4cdd-8761-94a41cf92523"
      },
      "source": [
        "assert dot(my_tuple_0_10, my_tuple_5_15) == 510 # dot products agree, but another assertion error."
      ],
      "execution_count": null,
      "outputs": [
        {
          "output_type": "stream",
          "text": [
            "The dot product of the two is 510\n"
          ],
          "name": "stdout"
        },
        {
          "output_type": "error",
          "ename": "AssertionError",
          "evalue": "ignored",
          "traceback": [
            "\u001b[0;31m---------------------------------------------------------------------------\u001b[0m",
            "\u001b[0;31mAssertionError\u001b[0m                            Traceback (most recent call last)",
            "\u001b[0;32m<ipython-input-96-bb0f5d4296da>\u001b[0m in \u001b[0;36m<module>\u001b[0;34m()\u001b[0m\n\u001b[0;32m----> 1\u001b[0;31m \u001b[0;32massert\u001b[0m \u001b[0mdot\u001b[0m\u001b[0;34m(\u001b[0m\u001b[0mmy_tuple_0_10\u001b[0m\u001b[0;34m,\u001b[0m \u001b[0mmy_tuple_5_15\u001b[0m\u001b[0;34m)\u001b[0m \u001b[0;34m==\u001b[0m \u001b[0;36m510\u001b[0m\u001b[0;34m\u001b[0m\u001b[0;34m\u001b[0m\u001b[0m\n\u001b[0m",
            "\u001b[0;31mAssertionError\u001b[0m: "
          ]
        }
      ]
    },
    {
      "cell_type": "markdown",
      "metadata": {
        "id": "YHcBAtdUlbau",
        "colab_type": "text"
      },
      "source": [
        "### 2.4: Compute the intersection of two lists\n",
        "\n",
        "You can use `set(x)` to convert an iterable x into a set. Compute the intersection of the two input iterables. You can read about sets in the official documentation [here](https://docs.python.org/3.6/tutorial/datastructures.html?highlight=intersection#sets), or in [here](https://docs.python.org/3.6/library/stdtypes.html#set), or in [this article](https://realpython.com/python-sets/). Feel free to return any iterable, including a set."
      ]
    },
    {
      "cell_type": "code",
      "metadata": {
        "id": "mOoYAAHDlbav",
        "colab_type": "code",
        "colab": {}
      },
      "source": [
        "def intersection(list_1, list_2):\n",
        "  list_one = tuple(range(0,10))\n",
        "  list_two = tuple(range(5,15))\n",
        "  intersection_set = set.intersection(set(list_one), set(list_two))\n",
        "  print(\"The intersections are \" , intersection_set)"
      ],
      "execution_count": null,
      "outputs": []
    },
    {
      "cell_type": "markdown",
      "metadata": {
        "id": "5C8bVYNslbax",
        "colab_type": "text"
      },
      "source": [
        "For the test, I'm using the `sorted` built-in to both convert an iterable to a list, and to make sure our comparison actually works since sets are unordered."
      ]
    },
    {
      "cell_type": "code",
      "metadata": {
        "id": "1J3IJMTAlbax",
        "colab_type": "code",
        "colab": {
          "base_uri": "https://localhost:8080/",
          "height": 175
        },
        "outputId": "7a45b5e5-c3b9-4ac9-c427-e5079ad334c0"
      },
      "source": [
        "assert sorted(intersection(my_tuple_0_10, my_tuple_5_15)) == [5,6,7,8,9] # another error, but answers match"
      ],
      "execution_count": null,
      "outputs": [
        {
          "output_type": "stream",
          "text": [
            "The intersections are  {5, 6, 7, 8, 9}\n"
          ],
          "name": "stdout"
        },
        {
          "output_type": "error",
          "ename": "TypeError",
          "evalue": "ignored",
          "traceback": [
            "\u001b[0;31m---------------------------------------------------------------------------\u001b[0m",
            "\u001b[0;31mTypeError\u001b[0m                                 Traceback (most recent call last)",
            "\u001b[0;32m<ipython-input-109-83a3bfef32f8>\u001b[0m in \u001b[0;36m<module>\u001b[0;34m()\u001b[0m\n\u001b[0;32m----> 1\u001b[0;31m \u001b[0;32massert\u001b[0m \u001b[0msorted\u001b[0m\u001b[0;34m(\u001b[0m\u001b[0mintersection\u001b[0m\u001b[0;34m(\u001b[0m\u001b[0mmy_tuple_0_10\u001b[0m\u001b[0;34m,\u001b[0m \u001b[0mmy_tuple_5_15\u001b[0m\u001b[0;34m)\u001b[0m\u001b[0;34m)\u001b[0m \u001b[0;34m==\u001b[0m \u001b[0;34m[\u001b[0m\u001b[0;36m5\u001b[0m\u001b[0;34m,\u001b[0m\u001b[0;36m6\u001b[0m\u001b[0;34m,\u001b[0m\u001b[0;36m7\u001b[0m\u001b[0;34m,\u001b[0m\u001b[0;36m8\u001b[0m\u001b[0;34m,\u001b[0m\u001b[0;36m9\u001b[0m\u001b[0;34m]\u001b[0m\u001b[0;34m\u001b[0m\u001b[0;34m\u001b[0m\u001b[0m\n\u001b[0m",
            "\u001b[0;31mTypeError\u001b[0m: 'NoneType' object is not iterable"
          ]
        }
      ]
    },
    {
      "cell_type": "markdown",
      "metadata": {
        "id": "bOxpGVnZlba0",
        "colab_type": "text"
      },
      "source": [
        "# Problem 3: Inspection\n",
        "\n",
        "The Python language gives you an amazing level of introspection capabilities. You can look up practically anything. For the following questions, we will look at the `six` module, which is a simple pure-python module that makes it easy to write code that supports Python 2 and Python 3 at the same time (The name comes from $2\\times3=6$). There's no special reason for this module over another one, it's just already in Anaconda and written in pure Python."
      ]
    },
    {
      "cell_type": "code",
      "metadata": {
        "id": "mseb8kmFlba0",
        "colab_type": "code",
        "colab": {
          "base_uri": "https://localhost:8080/",
          "height": 1000
        },
        "outputId": "e25ee465-6af2-422d-bd16-b170e53cd8e7"
      },
      "source": [
        "import six\n",
        "dir(six)"
      ],
      "execution_count": null,
      "outputs": [
        {
          "output_type": "execute_result",
          "data": {
            "text/plain": [
              "['BytesIO',\n",
              " 'Iterator',\n",
              " 'MAXSIZE',\n",
              " 'Module_six_moves_urllib',\n",
              " 'Module_six_moves_urllib_error',\n",
              " 'Module_six_moves_urllib_parse',\n",
              " 'Module_six_moves_urllib_request',\n",
              " 'Module_six_moves_urllib_response',\n",
              " 'Module_six_moves_urllib_robotparser',\n",
              " 'MovedAttribute',\n",
              " 'MovedModule',\n",
              " 'PY2',\n",
              " 'PY3',\n",
              " 'PY34',\n",
              " 'StringIO',\n",
              " '_LazyDescr',\n",
              " '_LazyModule',\n",
              " '_MovedItems',\n",
              " '_SixMetaPathImporter',\n",
              " '__author__',\n",
              " '__builtins__',\n",
              " '__cached__',\n",
              " '__doc__',\n",
              " '__file__',\n",
              " '__loader__',\n",
              " '__name__',\n",
              " '__package__',\n",
              " '__path__',\n",
              " '__spec__',\n",
              " '__version__',\n",
              " '_add_doc',\n",
              " '_assertCountEqual',\n",
              " '_assertNotRegex',\n",
              " '_assertRaisesRegex',\n",
              " '_assertRegex',\n",
              " '_func_closure',\n",
              " '_func_code',\n",
              " '_func_defaults',\n",
              " '_func_globals',\n",
              " '_import_module',\n",
              " '_importer',\n",
              " '_meth_func',\n",
              " '_meth_self',\n",
              " '_moved_attributes',\n",
              " '_urllib_error_moved_attributes',\n",
              " '_urllib_parse_moved_attributes',\n",
              " '_urllib_request_moved_attributes',\n",
              " '_urllib_response_moved_attributes',\n",
              " '_urllib_robotparser_moved_attributes',\n",
              " 'absolute_import',\n",
              " 'add_metaclass',\n",
              " 'add_move',\n",
              " 'advance_iterator',\n",
              " 'assertCountEqual',\n",
              " 'assertNotRegex',\n",
              " 'assertRaisesRegex',\n",
              " 'assertRegex',\n",
              " 'b',\n",
              " 'binary_type',\n",
              " 'byte2int',\n",
              " 'callable',\n",
              " 'class_types',\n",
              " 'create_bound_method',\n",
              " 'create_unbound_method',\n",
              " 'ensure_binary',\n",
              " 'ensure_str',\n",
              " 'ensure_text',\n",
              " 'exec_',\n",
              " 'functools',\n",
              " 'get_function_closure',\n",
              " 'get_function_code',\n",
              " 'get_function_defaults',\n",
              " 'get_function_globals',\n",
              " 'get_method_function',\n",
              " 'get_method_self',\n",
              " 'get_unbound_function',\n",
              " 'indexbytes',\n",
              " 'int2byte',\n",
              " 'integer_types',\n",
              " 'iterbytes',\n",
              " 'iteritems',\n",
              " 'iterkeys',\n",
              " 'iterlists',\n",
              " 'itertools',\n",
              " 'itervalues',\n",
              " 'moves',\n",
              " 'next',\n",
              " 'operator',\n",
              " 'print_',\n",
              " 'python_2_unicode_compatible',\n",
              " 'raise_from',\n",
              " 'remove_move',\n",
              " 'reraise',\n",
              " 'string_types',\n",
              " 'sys',\n",
              " 'text_type',\n",
              " 'types',\n",
              " 'u',\n",
              " 'unichr',\n",
              " 'viewitems',\n",
              " 'viewkeys',\n",
              " 'viewvalues',\n",
              " 'with_metaclass',\n",
              " 'wraps']"
            ]
          },
          "metadata": {
            "tags": []
          },
          "execution_count": 130
        }
      ]
    },
    {
      "cell_type": "markdown",
      "metadata": {
        "id": "upB_byWRlba2",
        "colab_type": "text"
      },
      "source": [
        "### 3.1: Where is the six package located?\n",
        "\n",
        "Hint: Look at the hidden members by typing `six._` then pressing tab. Or use `dir(six)` to get a list of all the members including hidden members."
      ]
    },
    {
      "cell_type": "code",
      "metadata": {
        "id": "PxvtGFmulba2",
        "colab_type": "code",
        "colab": {
          "base_uri": "https://localhost:8080/",
          "height": 33
        },
        "outputId": "3366a1f2-bb22-4231-887f-8044b98d2d96"
      },
      "source": [
        "ANSWER_3_1 = six.absolute_import  # FILL ME IN (one line)\n",
        "print(ANSWER_3_1)"
      ],
      "execution_count": null,
      "outputs": [
        {
          "output_type": "stream",
          "text": [
            "_Feature((2, 5, 0, 'alpha', 1), (3, 0, 0, 'alpha', 0), 16384)\n"
          ],
          "name": "stdout"
        }
      ]
    },
    {
      "cell_type": "markdown",
      "metadata": {
        "id": "-pBgpHa9lba4",
        "colab_type": "text"
      },
      "source": [
        "### 3.2:  What is the documentation string on `six.next`?\n",
        "\n",
        "Hint: if you use `help(six.next)`, you will print the documentation, but won't be able to capture it in a variable. Look at the hidden members instead."
      ]
    },
    {
      "cell_type": "code",
      "metadata": {
        "id": "7PUiPwf0lba4",
        "colab_type": "code",
        "colab": {
          "base_uri": "https://localhost:8080/",
          "height": 33
        },
        "outputId": "bc9c5f7b-b5e3-4bb0-d0e4-3a4531e0908e"
      },
      "source": [
        "ANSWER_3_2 = 'next' , # FILL ME IN (one line)\n",
        "print(ANSWER_3_2)"
      ],
      "execution_count": null,
      "outputs": [
        {
          "output_type": "stream",
          "text": [
            "('next',)\n"
          ],
          "name": "stdout"
        }
      ]
    },
    {
      "cell_type": "markdown",
      "metadata": {
        "id": "DHCMHXizlba6",
        "colab_type": "text"
      },
      "source": [
        "### 3.3: How many items are directly in the six module?\n",
        "\n",
        "Look for how many objects (mostly functions or classes, maybe a few variables - but as you'll see later, this distinction doesn't really matter - they are all objects.). Include the hidden members. Use the previous hints for help."
      ]
    },
    {
      "cell_type": "code",
      "metadata": {
        "id": "_5U03jYFlba7",
        "colab_type": "code",
        "colab": {
          "base_uri": "https://localhost:8080/",
          "height": 33
        },
        "outputId": "ed989bd3-bfe0-40ea-9a3b-01ab26b71fbe"
      },
      "source": [
        "ANSWER_3_3 = 104 # FILL ME IN (one line)\n",
        "print(ANSWER_3_3)"
      ],
      "execution_count": null,
      "outputs": [
        {
          "output_type": "stream",
          "text": [
            "104\n"
          ],
          "name": "stdout"
        }
      ]
    },
    {
      "cell_type": "markdown",
      "metadata": {
        "id": "RgcqgfAFlba9",
        "colab_type": "text"
      },
      "source": [
        "### 3.4: What is the source code for `six.iteritems`?\n",
        "\n",
        "Hint: use the inspect module. Feel free to use tab completion to look through (inspect?) the `inspect` module. Or go to [the documentation](https://docs.python.org/3/library/inspect.html). Or call for help on the module by typing `inspect?` (IPython) or `help(inspect)` (Python)."
      ]
    },
    {
      "cell_type": "code",
      "metadata": {
        "id": "AIno57qXlba9",
        "colab_type": "code",
        "colab": {}
      },
      "source": [
        "import inspect\n",
        "inspect\n"
      ],
      "execution_count": null,
      "outputs": []
    },
    {
      "cell_type": "code",
      "metadata": {
        "id": "LgADi9rFlba_",
        "colab_type": "code",
        "colab": {
          "base_uri": "https://localhost:8080/",
          "height": 66
        },
        "outputId": "475d4a16-3b5b-495b-9226-f4f538867eb6"
      },
      "source": [
        "ANSWER_3_4 = inspect.getsource(six.iteritems) # FILL ME IN (one line)\n",
        "print(ANSWER_3_4)"
      ],
      "execution_count": null,
      "outputs": [
        {
          "output_type": "stream",
          "text": [
            "    def iteritems(d, **kw):\n",
            "        return iter(d.items(**kw))\n",
            "\n"
          ],
          "name": "stdout"
        }
      ]
    }
  ]
}